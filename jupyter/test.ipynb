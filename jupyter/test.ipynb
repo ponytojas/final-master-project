{
 "cells": [
  {
   "cell_type": "code",
   "execution_count": 12,
   "metadata": {},
   "outputs": [],
   "source": [
    "import carla\n",
    "import numpy as np\n",
    "import networkx as nx\n"
   ]
  },
  {
   "cell_type": "code",
   "execution_count": 13,
   "metadata": {},
   "outputs": [],
   "source": [
    "START_LOCATION = {'x':-110.7, 'y':-4.3, 'z':0}\n",
    "END_LOCATION = {'x':-21.6, 'y':130, 'z':0.5}\n",
    "waypoints_locations = {}"
   ]
  },
  {
   "cell_type": "code",
   "execution_count": 14,
   "metadata": {},
   "outputs": [],
   "source": [
    "# Connect to the default carla server\n",
    "client = carla.Client('localhost', 2000)\n",
    "client.set_timeout(2.0)\n",
    "\n",
    "world = client.get_world()\n"
   ]
  },
  {
   "cell_type": "code",
   "execution_count": 15,
   "metadata": {},
   "outputs": [],
   "source": [
    "map = world.get_map()\n",
    "# map_string = map.to_opendrive()\n",
    "# map.save_to_disk('map.oxdr')\n",
    "waypoint_tuple_list = map.get_topology()\n"
   ]
  },
  {
   "cell_type": "code",
   "execution_count": 16,
   "metadata": {},
   "outputs": [],
   "source": [
    "def create_graph_from_topology(carla_map):\n",
    "    \"\"\"\n",
    "    Creates a directed NetworkX graph from a CARLA map's topology, ensuring all waypoints are included.\n",
    "    \"\"\"\n",
    "    import networkx as nx\n",
    "\n",
    "    graph = nx.DiGraph()\n",
    "\n",
    "    # First, add all waypoints as nodes to ensure they are included in the graph\n",
    "    all_waypoints = carla_map.generate_waypoints(2.0)  # Adjust distance as per requirement\n",
    "    for waypoint in all_waypoints:\n",
    "        graph.add_node(waypoint.id)\n",
    "\n",
    "    # Retrieve the topology - a list of (waypoint, next_waypoint) tuples\n",
    "    topology = carla_map.get_topology()\n",
    "\n",
    "    for waypoint, next_waypoint in topology:\n",
    "        start_id = waypoint.id\n",
    "        end_id = next_waypoint.id\n",
    "        distance = waypoint.transform.location.distance(next_waypoint.transform.location)\n",
    "        graph.add_edge(start_id, end_id, weight=distance)\n",
    "        graph.add_node(waypoint.id, x=waypoint.transform.location.x, y=waypoint.transform.location.y, z=waypoint.transform.location.z)\n",
    "        if waypoint.id not in waypoints_locations:\n",
    "            waypoints_locations[waypoint.id] = {'x':waypoint.transform.location.x, 'y':waypoint.transform.location.y, 'z':waypoint.transform.location.z, 'transform':waypoint.transform}\n",
    "\n",
    "\n",
    "    return graph\n",
    "\n",
    "def find_closest_waypoint(map, x, y, z):\n",
    "    \"\"\"\n",
    "    Finds the closest waypoint to the given coordinates on the map.\n",
    "    \"\"\"\n",
    "    location = carla.Location(x, y, z)\n",
    "    return map.get_waypoint(location)\n",
    "\n",
    "def find_nearest_node(graph, x, y, z):\n",
    "    \"\"\"\n",
    "    Finds the nearest node in the graph to the given (x, y, z) coordinates.\n",
    "    \n",
    "    Assumes each node in the graph has 'x', 'y', and 'z' attributes.\n",
    "    \"\"\"\n",
    "    min_distance = np.inf\n",
    "    nearest_node = None\n",
    "    \n",
    "    for node in graph.nodes(data=True):\n",
    "        data = node[1]\n",
    "        if 'x' not in data or 'y' not in data or 'z' not in data:\n",
    "            continue\n",
    "        node_x, node_y, node_z = data['x'], data['y'], data['z']\n",
    "        distance = np.sqrt((node_x - x) ** 2 + (node_y - y) ** 2 + (node_z - z) ** 2)\n",
    "        \n",
    "        if distance < min_distance:\n",
    "            min_distance = distance\n",
    "            nearest_node = node[0]\n",
    "    \n",
    "    return nearest_node\n",
    "\n",
    "def find_shortest_path(graph, start_id, end_id):\n",
    "    \"\"\"\n",
    "    Finds the shortest path between two waypoints in the graph using Dijkstra's algorithm.\n",
    "    \"\"\"\n",
    "    try:\n",
    "        path = nx.dijkstra_path(graph, start_id, end_id, weight='weight')\n",
    "        return path\n",
    "    except nx.NetworkXNoPath:\n",
    "        print(\"No path found between the specified start and end waypoints.\")\n",
    "        return []\n",
    "\n",
    "\n"
   ]
  },
  {
   "cell_type": "code",
   "execution_count": 17,
   "metadata": {},
   "outputs": [],
   "source": [
    "spawn_points = world.get_map().get_spawn_points()\n",
    "\n",
    "# Spawn a vehicle\n",
    "blueprint_library = world.get_blueprint_library()\n",
    "vehicle_bp = blueprint_library.filter('vehicle.*')[0]\n",
    "transform = spawn_points[0]\n",
    "# Get the closest waypoint to the spawn point\n",
    "closest_waypoint = find_closest_waypoint(map, transform.location.x, transform.location.y, transform.location.z)\n",
    "vehicle = world.spawn_actor(vehicle_bp, transform)\n"
   ]
  },
  {
   "cell_type": "code",
   "execution_count": 18,
   "metadata": {},
   "outputs": [
    {
     "name": "stdout",
     "output_type": "stream",
     "text": [
      "Vehicle spawn point:  Transform(Location(x=-64.644844, y=24.471010, z=0.600000), Rotation(pitch=0.000000, yaw=0.159198, roll=0.000000))\n",
      "Start waypoint:  11412194709627828438\n"
     ]
    }
   ],
   "source": [
    "# print the spawn point of the vehicle info\n",
    "print(\"Vehicle spawn point: \", transform)\n",
    "# Get location of the transform\n",
    "location = transform.location\n",
    "start_waypoint =  map.get_waypoint(location)\n",
    "print(\"Start waypoint: \", start_waypoint.id)"
   ]
  },
  {
   "cell_type": "code",
   "execution_count": 19,
   "metadata": {},
   "outputs": [
    {
     "name": "stdout",
     "output_type": "stream",
     "text": [
      "End waypoint:  18081082011362086823\n"
     ]
    }
   ],
   "source": [
    "end_location = carla.Location(x=END_LOCATION['x'], y=END_LOCATION['y'], z=END_LOCATION['z'])\n",
    "end_waypoint = map.get_waypoint(end_location)\n",
    "print(\"End waypoint: \", end_waypoint.id)"
   ]
  },
  {
   "cell_type": "code",
   "execution_count": 20,
   "metadata": {},
   "outputs": [],
   "source": [
    "graph = create_graph_from_topology(map)\n",
    "start = find_nearest_node(graph, START_LOCATION['x'], START_LOCATION['y'], START_LOCATION['z'])\n",
    "end = find_nearest_node(graph, END_LOCATION['x'], END_LOCATION['y'], END_LOCATION['z'])\n",
    "\n",
    "# Get a list of all graph nodes\n",
    "graph_nodes = list(graph.nodes)\n",
    "# Check if the start and end waypoints are in the graph\n",
    "if start not in graph_nodes:\n",
    "    print(\"Start waypoint not in the graph.\")\n",
    "if end not in graph_nodes:\n",
    "    print(\"End waypoint not in the graph.\")"
   ]
  },
  {
   "cell_type": "code",
   "execution_count": 21,
   "metadata": {},
   "outputs": [],
   "source": [
    "route = find_shortest_path(graph, start, end)"
   ]
  },
  {
   "cell_type": "code",
   "execution_count": 22,
   "metadata": {},
   "outputs": [
    {
     "ename": "",
     "evalue": "",
     "output_type": "error",
     "traceback": [
      "\u001b[1;31mThe Kernel crashed while executing code in the current cell or a previous cell. \n",
      "\u001b[1;31mPlease review the code in the cell(s) to identify a possible cause of the failure. \n",
      "\u001b[1;31mClick <a href='https://aka.ms/vscodeJupyterKernelCrash'>here</a> for more info. \n",
      "\u001b[1;31mView Jupyter <a href='command:jupyter.viewOutput'>log</a> for further details."
     ]
    }
   ],
   "source": [
    "# for waypoint_id in route:\n",
    "#     waypoint = waypoints_locations[waypoint_id]['transform']\n",
    "#     location = waypoint.location\n",
    "#     vehicle.set_transform(carla.Transform(location, waypoint.rotation))\n",
    "#     world.tick()"
   ]
  }
 ],
 "metadata": {
  "kernelspec": {
   "display_name": "carla",
   "language": "python",
   "name": "python3"
  },
  "language_info": {
   "codemirror_mode": {
    "name": "ipython",
    "version": 3
   },
   "file_extension": ".py",
   "mimetype": "text/x-python",
   "name": "python",
   "nbconvert_exporter": "python",
   "pygments_lexer": "ipython3",
   "version": "3.7.12"
  }
 },
 "nbformat": 4,
 "nbformat_minor": 2
}
